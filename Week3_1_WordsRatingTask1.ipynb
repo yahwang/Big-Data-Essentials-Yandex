{
 "cells": [
  {
   "cell_type": "markdown",
   "metadata": {
    "colab_type": "text",
    "id": "Ebk-YqgqEOw1"
   },
   "source": [
    "# Hadoop Streaming assignment 1: Words Rating"
   ]
  },
  {
   "cell_type": "markdown",
   "metadata": {
    "colab_type": "text",
    "id": "XDLjl7hGEOw2"
   },
   "source": [
    "The purpose of this task is to create your own WordCount program for Wikipedia dump processing and learn basic concepts of the MapReduce.\n",
    "\n",
    "In this task you have to find the 7th word by popularity and its quantity in the reverse order (most popular first) in Wikipedia data (`/data/wiki/en_articles_part`).\n",
    "\n",
    "There are several points for this task:\n",
    "\n",
    "1) As an output, you have to get the 7th word and its quantity separated by a tab character.\n",
    "\n",
    "2) You must use the second job to obtain a totally ordered result.\n",
    "\n",
    "3) Do not forget to redirect all trash and output to /dev/null.\n",
    "\n",
    "Here you can find the draft of the task main steps. You can use other methods for solution obtaining."
   ]
  },
  {
   "cell_type": "markdown",
   "metadata": {},
   "source": [
    "####  python3.6 기반으로 작성하였다. (\"/opt/conda/bin/python\")"
   ]
  },
  {
   "cell_type": "markdown",
   "metadata": {
    "colab_type": "text",
    "id": "lIUikVIDEOw2"
   },
   "source": [
    "## Step 1. Create mapper and reducer.\n",
    "\n",
    "<b>Hint:</b>  Demo task contains almost all the necessary pieces to complete this assignment. You may use the demo to implement the first MapReduce Job."
   ]
  },
  {
   "cell_type": "code",
   "execution_count": 153,
   "metadata": {
    "colab": {
     "autoexec": {
      "startup": false,
      "wait_interval": 0
     }
    },
    "colab_type": "code",
    "id": "A7T5mxDwEOw4"
   },
   "outputs": [
    {
     "name": "stdout",
     "output_type": "stream",
     "text": [
      "Overwriting mapper1.py\n"
     ]
    }
   ],
   "source": [
    "%%writefile mapper1.py\n",
    "\n",
    "import sys\n",
    "import re\n",
    "\n",
    "for line in sys.stdin:\n",
    "    try:\n",
    "        article_id, content = line.strip().split('\\t', 1)\n",
    "    except ValueError as e:\n",
    "        continue\n",
    "    words = re.split('\\W+', content)\n",
    "    for word in words:\n",
    "        sys.stderr.write(f'reporter:counter:Wiki stats,Total words,1\\n')\n",
    "        print(f'{word.lower()}\\t1')"
   ]
  },
  {
   "cell_type": "code",
   "execution_count": 11,
   "metadata": {},
   "outputs": [
    {
     "name": "stdout",
     "output_type": "stream",
     "text": [
      "Overwriting reducer1.py\n"
     ]
    }
   ],
   "source": [
    "%%writefile reducer1.py\n",
    "\n",
    "import sys\n",
    "\n",
    "current_key = None\n",
    "total_amt = 0\n",
    "\n",
    "for line in sys.stdin:\n",
    "    try:\n",
    "        key, count = line.strip().split('\\t', 1)\n",
    "        count = int(count)\n",
    "    except ValueError as e:\n",
    "        continue\n",
    "    if current_key != key:\n",
    "        if current_key:\n",
    "            print(f'{current_key}\\t{total_amt}')\n",
    "        total_amt = 0\n",
    "        current_key = key\n",
    "    total_amt += count\n",
    "\n",
    "if current_key:\n",
    "    print(f'{current_key}\\t{total_amt}')"
   ]
  },
  {
   "cell_type": "markdown",
   "metadata": {
    "colab_type": "text",
    "id": "KYZpcwY9EOw6"
   },
   "source": [
    "## Step 2. Create sort job.\n",
    "\n",
    "<b>Hint:</b> You may use MapReduce comparator to solve this step. Make sure that the keys are sorted in ascending order."
   ]
  },
  {
   "cell_type": "markdown",
   "metadata": {},
   "source": [
    "comparator를 사용하기 위해서는 amt값이 key값이 되어야 정렬할 수 있다.\n",
    "\n",
    "mapper에서 amt를 key값으로 설정해놓으면 정렬이 되고 reducer에서 결과를 return하면 된다."
   ]
  },
  {
   "cell_type": "code",
   "execution_count": 94,
   "metadata": {
    "colab": {
     "autoexec": {
      "startup": false,
      "wait_interval": 0
     }
    },
    "colab_type": "code",
    "id": "g-NMzQ79EOw7"
   },
   "outputs": [
    {
     "name": "stdout",
     "output_type": "stream",
     "text": [
      "Overwriting mapper_sort.py\n"
     ]
    }
   ],
   "source": [
    "%%writefile mapper_sort.py\n",
    "\n",
    "import sys\n",
    "\n",
    "for line in sys.stdin:\n",
    "    try:\n",
    "        word, amt = line.strip().split('\\t',1)\n",
    "        amt = int(amt)\n",
    "    except ValueError as e:\n",
    "        continue\n",
    "    \n",
    "    print(f'{amt}\\t{word}')"
   ]
  },
  {
   "cell_type": "code",
   "execution_count": 101,
   "metadata": {
    "colab": {
     "autoexec": {
      "startup": false,
      "wait_interval": 0
     }
    },
    "colab_type": "code",
    "id": "qs6SKs7wO4be"
   },
   "outputs": [
    {
     "name": "stdout",
     "output_type": "stream",
     "text": [
      "Overwriting reducer_sort.py\n"
     ]
    }
   ],
   "source": [
    "%%writefile reducer_sort.py\n",
    "\n",
    "import sys\n",
    "\n",
    "for line in sys.stdin:\n",
    "    try:\n",
    "        amt, word = line.strip().split('\\t',1)\n",
    "        amt = int(amt)\n",
    "    except ValueError as e:\n",
    "        continue\n",
    "    \n",
    "    print(f'{word}\\t{amt}')"
   ]
  },
  {
   "cell_type": "markdown",
   "metadata": {
    "colab_type": "text",
    "id": "4OBE81GZEOw8"
   },
   "source": [
    "## Step 3. Bash commands\n",
    "\n",
    "<b> Hint: </b> For printing the exact row you may use basic UNIX commands. For instance, sed/head/tail/... (if you know other commands, you can use them).\n",
    "\n",
    "To run both jobs, you must use two consecutive yarn-commands. Remember that the input for the second job is the ouput for the first job."
   ]
  },
  {
   "cell_type": "code",
   "execution_count": 127,
   "metadata": {
    "colab": {
     "autoexec": {
      "startup": false,
      "wait_interval": 0
     }
    },
    "colab_type": "code",
    "id": "1q9NczdIEOw9",
    "scrolled": true
   },
   "outputs": [
    {
     "name": "stdout",
     "output_type": "stream",
     "text": [
      "the\t831724\n",
      "of\t448016\n",
      "and\t344105\n",
      "in\t298796\n",
      "to\t242846\n",
      "a\t242158\n",
      "is\t126579\n"
     ]
    },
    {
     "name": "stderr",
     "output_type": "stream",
     "text": [
      "19/03/18 13:53:43 INFO client.RMProxy: Connecting to ResourceManager at /0.0.0.0:8032\n",
      "19/03/18 13:53:43 INFO client.RMProxy: Connecting to ResourceManager at /0.0.0.0:8032\n",
      "19/03/18 13:53:44 INFO mapred.FileInputFormat: Total input files to process : 1\n",
      "19/03/18 13:53:45 INFO mapreduce.JobSubmitter: number of splits:2\n",
      "19/03/18 13:53:45 INFO mapreduce.JobSubmitter: Submitting tokens for job: job_1552910315332_0017\n",
      "19/03/18 13:53:45 INFO impl.YarnClientImpl: Submitted application application_1552910315332_0017\n",
      "19/03/18 13:53:45 INFO mapreduce.Job: The url to track the job: http://12da6f52529f:8088/proxy/application_1552910315332_0017/\n",
      "19/03/18 13:53:45 INFO mapreduce.Job: Running job: job_1552910315332_0017\n",
      "19/03/18 13:53:51 INFO mapreduce.Job: Job job_1552910315332_0017 running in uber mode : false\n",
      "19/03/18 13:53:51 INFO mapreduce.Job:  map 0% reduce 0%\n",
      "19/03/18 13:54:07 INFO mapreduce.Job:  map 21% reduce 0%\n",
      "19/03/18 13:54:13 INFO mapreduce.Job:  map 32% reduce 0%\n",
      "19/03/18 13:54:19 INFO mapreduce.Job:  map 41% reduce 0%\n",
      "19/03/18 13:54:25 INFO mapreduce.Job:  map 45% reduce 0%\n",
      "19/03/18 13:54:31 INFO mapreduce.Job:  map 53% reduce 0%\n",
      "19/03/18 13:54:37 INFO mapreduce.Job:  map 62% reduce 0%\n",
      "19/03/18 13:54:43 INFO mapreduce.Job:  map 67% reduce 0%\n",
      "19/03/18 13:54:47 INFO mapreduce.Job:  map 100% reduce 0%\n",
      "19/03/18 13:54:53 INFO mapreduce.Job:  map 100% reduce 25%\n",
      "19/03/18 13:54:55 INFO mapreduce.Job:  map 100% reduce 50%\n",
      "19/03/18 13:54:56 INFO mapreduce.Job:  map 100% reduce 75%\n",
      "19/03/18 13:54:57 INFO mapreduce.Job:  map 100% reduce 100%\n",
      "19/03/18 13:54:58 INFO mapreduce.Job: Job job_1552910315332_0017 completed successfully\n",
      "19/03/18 13:54:58 INFO mapreduce.Job: Counters: 50\n",
      "\tFile System Counters\n",
      "\t\tFILE: Number of bytes read=12004201\n",
      "\t\tFILE: Number of bytes written=18811216\n",
      "\t\tFILE: Number of read operations=0\n",
      "\t\tFILE: Number of large read operations=0\n",
      "\t\tFILE: Number of write operations=0\n",
      "\t\tHDFS: Number of bytes read=76874501\n",
      "\t\tHDFS: Number of bytes written=3072387\n",
      "\t\tHDFS: Number of read operations=18\n",
      "\t\tHDFS: Number of large read operations=0\n",
      "\t\tHDFS: Number of write operations=8\n",
      "\tJob Counters \n",
      "\t\tKilled reduce tasks=1\n",
      "\t\tLaunched map tasks=2\n",
      "\t\tLaunched reduce tasks=4\n",
      "\t\tData-local map tasks=2\n",
      "\t\tTotal time spent by all maps in occupied slots (ms)=106909\n",
      "\t\tTotal time spent by all reduces in occupied slots (ms)=16150\n",
      "\t\tTotal time spent by all map tasks (ms)=106909\n",
      "\t\tTotal time spent by all reduce tasks (ms)=16150\n",
      "\t\tTotal vcore-milliseconds taken by all map tasks=106909\n",
      "\t\tTotal vcore-milliseconds taken by all reduce tasks=16150\n",
      "\t\tTotal megabyte-milliseconds taken by all map tasks=109474816\n",
      "\t\tTotal megabyte-milliseconds taken by all reduce tasks=16537600\n",
      "\tMap-Reduce Framework\n",
      "\t\tMap input records=4100\n",
      "\t\tMap output records=12381638\n",
      "\t\tMap output bytes=98639518\n",
      "\t\tMap output materialized bytes=5990640\n",
      "\t\tInput split bytes=228\n",
      "\t\tCombine input records=12381638\n",
      "\t\tCombine output records=462532\n",
      "\t\tReduce input groups=273357\n",
      "\t\tReduce shuffle bytes=5990640\n",
      "\t\tReduce input records=462532\n",
      "\t\tReduce output records=273357\n",
      "\t\tSpilled Records=1387596\n",
      "\t\tShuffled Maps =8\n",
      "\t\tFailed Shuffles=0\n",
      "\t\tMerged Map outputs=8\n",
      "\t\tGC time elapsed (ms)=1475\n",
      "\t\tCPU time spent (ms)=131010\n",
      "\t\tPhysical memory (bytes) snapshot=1277161472\n",
      "\t\tVirtual memory (bytes) snapshot=11788218368\n",
      "\t\tTotal committed heap usage (bytes)=797442048\n",
      "\tShuffle Errors\n",
      "\t\tBAD_ID=0\n",
      "\t\tCONNECTION=0\n",
      "\t\tIO_ERROR=0\n",
      "\t\tWRONG_LENGTH=0\n",
      "\t\tWRONG_MAP=0\n",
      "\t\tWRONG_REDUCE=0\n",
      "\tFile Input Format Counters \n",
      "\t\tBytes Read=76874273\n",
      "\tFile Output Format Counters \n",
      "\t\tBytes Written=3072387\n",
      "19/03/18 13:54:58 INFO streaming.StreamJob: Output directory: assignment1_1552917220194804\n",
      "19/03/18 13:55:01 INFO client.RMProxy: Connecting to ResourceManager at /0.0.0.0:8032\n",
      "19/03/18 13:55:01 INFO client.RMProxy: Connecting to ResourceManager at /0.0.0.0:8032\n",
      "19/03/18 13:55:02 INFO mapred.FileInputFormat: Total input files to process : 4\n",
      "19/03/18 13:55:02 INFO mapreduce.JobSubmitter: number of splits:4\n",
      "19/03/18 13:55:03 INFO mapreduce.JobSubmitter: Submitting tokens for job: job_1552910315332_0018\n",
      "19/03/18 13:55:03 INFO impl.YarnClientImpl: Submitted application application_1552910315332_0018\n",
      "19/03/18 13:55:03 INFO mapreduce.Job: The url to track the job: http://12da6f52529f:8088/proxy/application_1552910315332_0018/\n",
      "19/03/18 13:55:03 INFO mapreduce.Job: Running job: job_1552910315332_0018\n",
      "19/03/18 13:55:09 INFO mapreduce.Job: Job job_1552910315332_0018 running in uber mode : false\n",
      "19/03/18 13:55:09 INFO mapreduce.Job:  map 0% reduce 0%\n",
      "19/03/18 13:55:16 INFO mapreduce.Job:  map 50% reduce 0%\n",
      "19/03/18 13:55:17 INFO mapreduce.Job:  map 100% reduce 0%\n",
      "19/03/18 13:55:22 INFO mapreduce.Job:  map 100% reduce 100%\n",
      "19/03/18 13:55:22 INFO mapreduce.Job: Job job_1552910315332_0018 completed successfully\n",
      "19/03/18 13:55:22 INFO mapreduce.Job: Counters: 49\n",
      "\tFile System Counters\n",
      "\t\tFILE: Number of bytes read=3619107\n",
      "\t\tFILE: Number of bytes written=7938717\n",
      "\t\tFILE: Number of read operations=0\n",
      "\t\tFILE: Number of large read operations=0\n",
      "\t\tFILE: Number of write operations=0\n",
      "\t\tHDFS: Number of bytes read=3072887\n",
      "\t\tHDFS: Number of bytes written=3072387\n",
      "\t\tHDFS: Number of read operations=15\n",
      "\t\tHDFS: Number of large read operations=0\n",
      "\t\tHDFS: Number of write operations=2\n",
      "\tJob Counters \n",
      "\t\tLaunched map tasks=4\n",
      "\t\tLaunched reduce tasks=1\n",
      "\t\tData-local map tasks=4\n",
      "\t\tTotal time spent by all maps in occupied slots (ms)=21612\n",
      "\t\tTotal time spent by all reduces in occupied slots (ms)=2866\n",
      "\t\tTotal time spent by all map tasks (ms)=21612\n",
      "\t\tTotal time spent by all reduce tasks (ms)=2866\n",
      "\t\tTotal vcore-milliseconds taken by all map tasks=21612\n",
      "\t\tTotal vcore-milliseconds taken by all reduce tasks=2866\n",
      "\t\tTotal megabyte-milliseconds taken by all map tasks=22130688\n",
      "\t\tTotal megabyte-milliseconds taken by all reduce tasks=2934784\n",
      "\tMap-Reduce Framework\n",
      "\t\tMap input records=273357\n",
      "\t\tMap output records=273357\n",
      "\t\tMap output bytes=3072387\n",
      "\t\tMap output materialized bytes=3619125\n",
      "\t\tInput split bytes=500\n",
      "\t\tCombine input records=0\n",
      "\t\tCombine output records=0\n",
      "\t\tReduce input groups=2129\n",
      "\t\tReduce shuffle bytes=3619125\n",
      "\t\tReduce input records=273357\n",
      "\t\tReduce output records=273357\n",
      "\t\tSpilled Records=546714\n",
      "\t\tShuffled Maps =4\n",
      "\t\tFailed Shuffles=0\n",
      "\t\tMerged Map outputs=4\n",
      "\t\tGC time elapsed (ms)=514\n",
      "\t\tCPU time spent (ms)=6380\n",
      "\t\tPhysical memory (bytes) snapshot=1273262080\n",
      "\t\tVirtual memory (bytes) snapshot=9803284480\n",
      "\t\tTotal committed heap usage (bytes)=894435328\n",
      "\tShuffle Errors\n",
      "\t\tBAD_ID=0\n",
      "\t\tCONNECTION=0\n",
      "\t\tIO_ERROR=0\n",
      "\t\tWRONG_LENGTH=0\n",
      "\t\tWRONG_MAP=0\n",
      "\t\tWRONG_REDUCE=0\n",
      "\tFile Input Format Counters \n",
      "\t\tBytes Read=3072387\n",
      "\tFile Output Format Counters \n",
      "\t\tBytes Written=3072387\n",
      "19/03/18 13:55:22 INFO streaming.StreamJob: Output directory: final_result\n"
     ]
    },
    {
     "name": "stdout",
     "output_type": "stream",
     "text": [
      "CPU times: user 10 ms, sys: 10 ms, total: 20 ms\n",
      "Wall time: 1min 44s\n"
     ]
    }
   ],
   "source": [
    "%%time\n",
    "%%bash\n",
    "\n",
    "OUT_DIR=\"assignment1_\"$(date +\"%s%6N\")\n",
    "HADOOP_JAR=\"/opt/cloudera/parcels/CDH/lib/hadoop-mapreduce/hadoop-streaming.jar\"\n",
    "\n",
    "hdfs dfs -rm -r -skipTrash assignment* > /dev/null\n",
    "\n",
    "# Code for your first job\n",
    "yarn jar ${HADOOP_JAR} \\\n",
    "    -D mapreduce.job.name=\"First Job\" \\\n",
    "    -D mapreduce.job.reduces=4 \\\n",
    "    -files mapper1.py,reducer1.py \\\n",
    "    -mapper \"/opt/conda/bin/python mapper1.py\" \\\n",
    "    -combiner \"/opt/conda/bin/python reducer1.py\" \\\n",
    "    -reducer \"/opt/conda/bin/python reducer1.py\" \\\n",
    "    -input /data/wiki/en_articles_part \\\n",
    "    -output ${OUT_DIR} > /dev/null\n",
    "\n",
    "OUT_DIR2=\"final_result\"\n",
    "\n",
    "hdfs dfs -rm -r -skipTrash final_result* > /dev/null\n",
    "\n",
    "# Code for your second job\n",
    "yarn jar ${HADOOP_JAR} \\\n",
    "    -D mapreduce.job.name=\"Second Job\" \\\n",
    "    -D mapreduce.job.reduces=1 \\\n",
    "    -D mapreduce.job.output.key.comparator.class=org.apache.hadoop.mapreduce.lib.partition.KeyFieldBasedComparator \\\n",
    "    -D mapreduce.map.output.key.field.separator=\\t \\\n",
    "    -D mapreduce.partition.keycomparator.options=\"-k1,1nr\" \\\n",
    "    -files mapper_sort.py,reducer_sort.py \\\n",
    "    -mapper \"/opt/conda/bin/python mapper_sort.py\" \\\n",
    "    -reducer \"/opt/conda/bin/python reducer_sort.py\" \\\n",
    "    -input ${OUT_DIR} \\\n",
    "    -output ${OUT_DIR2} > /dev/null\n",
    "\n",
    "# Code for obtaining the results\n",
    "hdfs dfs -cat ${OUT_DIR2}/part-00000 | sed -n '1,7p'"
   ]
  },
  {
   "cell_type": "code",
   "execution_count": 128,
   "metadata": {
    "scrolled": false
   },
   "outputs": [
    {
     "name": "stdout",
     "output_type": "stream",
     "text": [
      "Found 5 items\r\n",
      "-rw-r--r--   1 jovyan supergroup          0 2019-03-18 13:54 assignment1_1552917220194804/_SUCCESS\r\n",
      "-rw-r--r--   1 jovyan supergroup     767815 2019-03-18 13:54 assignment1_1552917220194804/part-00000\r\n",
      "-rw-r--r--   1 jovyan supergroup     771088 2019-03-18 13:54 assignment1_1552917220194804/part-00001\r\n",
      "-rw-r--r--   1 jovyan supergroup     765018 2019-03-18 13:54 assignment1_1552917220194804/part-00002\r\n",
      "-rw-r--r--   1 jovyan supergroup     768466 2019-03-18 13:54 assignment1_1552917220194804/part-00003\r\n"
     ]
    }
   ],
   "source": [
    "# 첫번째 job 결과\n",
    "!hdfs dfs -ls assignment1_1552917220194804"
   ]
  },
  {
   "cell_type": "code",
   "execution_count": 135,
   "metadata": {},
   "outputs": [
    {
     "name": "stdout",
     "output_type": "stream",
     "text": [
      "0\t14891\r\n",
      "000\t8186\r\n",
      "00000\t5\r\n",
      "00000000000\t1\r\n",
      "00000035\t1\r\n",
      "0000003a\t1\r\n",
      "00004\t2\r\n",
      "00008\t1\r\n",
      "00010111\t1\r\n",
      "00011\t2\r\n",
      "cat: Unable to write to output stream.\r\n"
     ]
    }
   ],
   "source": [
    "!hdfs dfs -cat assignment1_1552917220194804/part-00003 | head"
   ]
  },
  {
   "cell_type": "code",
   "execution_count": 129,
   "metadata": {
    "scrolled": false
   },
   "outputs": [
    {
     "name": "stdout",
     "output_type": "stream",
     "text": [
      "the\t831724\r\n",
      "of\t448016\r\n",
      "and\t344105\r\n",
      "in\t298796\r\n",
      "to\t242846\r\n",
      "a\t242158\r\n",
      "is\t126579\r\n"
     ]
    }
   ],
   "source": [
    "# 두번째 job 결과\n",
    "!hdfs dfs -cat final_result/part-00000 | sed -n '1,7p'"
   ]
  }
 ],
 "metadata": {
  "colab": {
   "collapsed_sections": [],
   "default_view": {},
   "name": "701_to_students.ipynb",
   "provenance": [],
   "version": "0.3.2",
   "views": {}
  },
  "kernelspec": {
   "display_name": "Python 3",
   "language": "python",
   "name": "python3"
  },
  "language_info": {
   "codemirror_mode": {
    "name": "ipython",
    "version": 3
   },
   "file_extension": ".py",
   "mimetype": "text/x-python",
   "name": "python",
   "nbconvert_exporter": "python",
   "pygments_lexer": "ipython3",
   "version": "3.6.2"
  }
 },
 "nbformat": 4,
 "nbformat_minor": 1
}
