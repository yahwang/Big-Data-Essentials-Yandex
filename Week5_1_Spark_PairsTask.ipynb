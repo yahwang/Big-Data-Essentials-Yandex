{
 "cells": [
  {
   "cell_type": "markdown",
   "metadata": {},
   "source": [
    "### 'narodnaya'으로 시작하는 bigram의 개수를 계산하는 문제"
   ]
  },
  {
   "cell_type": "code",
   "execution_count": 1,
   "metadata": {},
   "outputs": [
    {
     "name": "stdout",
     "output_type": "stream",
     "text": [
      "env: PYSPARK_PYTHON=python\n",
      "env: PYTHONHASHSEED=0\n"
     ]
    }
   ],
   "source": [
    "# python3를 기본 python으로 지정\n",
    "%env PYSPARK_PYTHON=python\n",
    "%env PYTHONHASHSEED=0"
   ]
  },
  {
   "cell_type": "code",
   "execution_count": 2,
   "metadata": {},
   "outputs": [],
   "source": [
    "from pyspark import SparkConf, SparkContext\n",
    "sc = SparkContext(conf=SparkConf().setAppName(\"MyApp\").setMaster(\"local\"))\n",
    "\n",
    "import re\n",
    "\n",
    "# article을 단어별로 분리\n",
    "def parse_article(line):\n",
    "    try:\n",
    "        article_id, text = line.rstrip().split('\\t', 1)\n",
    "        text = re.sub(\"^\\W+|\\W+$\", \"\", text)\n",
    "        words = re.split(\"\\W*\\s+\\W*\", text)\n",
    "        \n",
    "        return words\n",
    "    except ValueError as e:\n",
    "        return []\n",
    "\n",
    "# bigram을 _로 합친 후에 return\n",
    "def find_keyword(words):\n",
    "    try:\n",
    "        keyword = 'narodnaya'\n",
    "        res = []\n",
    "        for index in range(len(words)-1):\n",
    "            if words[index].lower() == keyword:\n",
    "                res.append((words[index].lower()+'_'+words[index+1].lower(),1))\n",
    "        return res\n",
    "    except ValueError as e:\n",
    "        return []"
   ]
  },
  {
   "cell_type": "code",
   "execution_count": 10,
   "metadata": {},
   "outputs": [],
   "source": [
    "# 4 : parition의 개수\n",
    "file_loc = \"/data/wiki/en_articles_part/articles-part\"\n",
    "wiki = sc.textFile(file_loc, 4).map(parse_article).cache()"
   ]
  },
  {
   "cell_type": "code",
   "execution_count": 11,
   "metadata": {
    "scrolled": true
   },
   "outputs": [
    {
     "data": {
      "text/plain": [
       "4"
      ]
     },
     "execution_count": 11,
     "metadata": {},
     "output_type": "execute_result"
    }
   ],
   "source": [
    "wiki.getNumPartitions()"
   ]
  },
  {
   "cell_type": "code",
   "execution_count": 12,
   "metadata": {
    "scrolled": false
   },
   "outputs": [
    {
     "data": {
      "text/plain": [
       "4100"
      ]
     },
     "execution_count": 12,
     "metadata": {},
     "output_type": "execute_result"
    }
   ],
   "source": [
    "wiki.count()"
   ]
  },
  {
   "cell_type": "code",
   "execution_count": 25,
   "metadata": {},
   "outputs": [
    {
     "data": {
      "text/plain": [
       "['Anarchism',\n",
       " 'Anarchism',\n",
       " 'is',\n",
       " 'often',\n",
       " 'defined',\n",
       " 'as',\n",
       " 'a',\n",
       " 'political',\n",
       " 'philosophy',\n",
       " 'which']"
      ]
     },
     "execution_count": 25,
     "metadata": {},
     "output_type": "execute_result"
    }
   ],
   "source": [
    "wiki.take(1)[0][:10]"
   ]
  },
  {
   "cell_type": "code",
   "execution_count": 20,
   "metadata": {},
   "outputs": [],
   "source": [
    "# list로 묶여있는 결과를 flatMap으로 각각 분리\n",
    "wiki_keywords = wiki.flatMap(find_keyword).filter(lambda x: len(x)>0 )"
   ]
  },
  {
   "cell_type": "code",
   "execution_count": 21,
   "metadata": {},
   "outputs": [
    {
     "data": {
      "text/plain": [
       "[('narodnaya_volya', 1),\n",
       " ('narodnaya_volya', 1),\n",
       " ('narodnaya_volya', 1),\n",
       " ('narodnaya_volya', 1),\n",
       " ('narodnaya_volya', 1),\n",
       " ('narodnaya_volya', 1),\n",
       " ('narodnaya_volya', 1),\n",
       " ('narodnaya_volya', 1),\n",
       " ('narodnaya_volya', 1),\n",
       " ('narodnaya_gazeta', 1)]"
      ]
     },
     "execution_count": 21,
     "metadata": {},
     "output_type": "execute_result"
    }
   ],
   "source": [
    "wiki_keywords.collect()"
   ]
  },
  {
   "cell_type": "code",
   "execution_count": 17,
   "metadata": {},
   "outputs": [],
   "source": [
    "result = wiki_keywords.reduceByKey(lambda a,b: a+b)"
   ]
  },
  {
   "cell_type": "code",
   "execution_count": 18,
   "metadata": {},
   "outputs": [
    {
     "data": {
      "text/plain": [
       "[('narodnaya_volya', 9), ('narodnaya_gazeta', 1)]"
      ]
     },
     "execution_count": 18,
     "metadata": {},
     "output_type": "execute_result"
    }
   ],
   "source": [
    "result.collect()"
   ]
  },
  {
   "cell_type": "code",
   "execution_count": 19,
   "metadata": {},
   "outputs": [
    {
     "data": {
      "text/plain": [
       "[('narodnaya_gazeta', 1), ('narodnaya_volya', 9)]"
      ]
     },
     "execution_count": 19,
     "metadata": {},
     "output_type": "execute_result"
    }
   ],
   "source": [
    "result.sortByKey().collect()"
   ]
  },
  {
   "cell_type": "code",
   "execution_count": null,
   "metadata": {},
   "outputs": [],
   "source": []
  }
 ],
 "metadata": {
  "kernelspec": {
   "display_name": "Python 3",
   "language": "python",
   "name": "python3"
  },
  "language_info": {
   "codemirror_mode": {
    "name": "ipython",
    "version": 3
   },
   "file_extension": ".py",
   "mimetype": "text/x-python",
   "name": "python",
   "nbconvert_exporter": "python",
   "pygments_lexer": "ipython3",
   "version": "3.6.2"
  }
 },
 "nbformat": 4,
 "nbformat_minor": 2
}
